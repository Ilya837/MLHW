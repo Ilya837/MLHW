{
 "cells": [
  {
   "cell_type": "markdown",
   "id": "d889e887-2e08-4614-8d09-3a6aaa99d4af",
   "metadata": {},
   "source": [
    "Задача: Обучить нейронную сеть на основе критериев из датасета (Пол, общее состояние здоровья, физическая активность и т.д.) определять , происходил-ли у человека сердечный приступ."
   ]
  },
  {
   "cell_type": "code",
   "execution_count": 1,
   "id": "c4ead7e3-369d-49a0-912c-a888d6119101",
   "metadata": {},
   "outputs": [],
   "source": [
    "import numpy as np              # Массивы (матрицы, векторы, линейная алгебра)\n",
    "import matplotlib.pyplot as plt # Научная графика\n",
    "%matplotlib inline \n",
    "    # Говорим jupyter'у, чтобы весь графический вывод был в браузере, а не в отдельном окне\n",
    "import pandas as pd             # Таблицы и временные ряды (dataframe, series)\n",
    "import seaborn as sns           # Еще больше красивой графики для визуализации данных\n",
    "import sklearn                  # Алгоритмы машинного обучения\n"
   ]
  },
  {
   "cell_type": "code",
   "execution_count": 2,
   "id": "3f83d33c-8889-4f6c-b0f5-3029bffd02b1",
   "metadata": {},
   "outputs": [
    {
     "data": {
      "text/plain": [
       "pandas.core.frame.DataFrame"
      ]
     },
     "execution_count": 2,
     "metadata": {},
     "output_type": "execute_result"
    }
   ],
   "source": [
    "url = \"./heart_2022_no_nans.csv\"\n",
    "data = pd.read_csv(url)\n",
    "type(data)"
   ]
  },
  {
   "cell_type": "code",
   "execution_count": 3,
   "id": "f88fe972-63c3-4c3f-b8b0-815c1c915170",
   "metadata": {},
   "outputs": [
    {
     "data": {
      "text/html": [
       "<div>\n",
       "<style scoped>\n",
       "    .dataframe tbody tr th:only-of-type {\n",
       "        vertical-align: middle;\n",
       "    }\n",
       "\n",
       "    .dataframe tbody tr th {\n",
       "        vertical-align: top;\n",
       "    }\n",
       "\n",
       "    .dataframe thead th {\n",
       "        text-align: right;\n",
       "    }\n",
       "</style>\n",
       "<table border=\"1\" class=\"dataframe\">\n",
       "  <thead>\n",
       "    <tr style=\"text-align: right;\">\n",
       "      <th></th>\n",
       "      <th>State</th>\n",
       "      <th>Sex</th>\n",
       "      <th>GeneralHealth</th>\n",
       "      <th>PhysicalHealthDays</th>\n",
       "      <th>MentalHealthDays</th>\n",
       "      <th>LastCheckupTime</th>\n",
       "      <th>PhysicalActivities</th>\n",
       "      <th>SleepHours</th>\n",
       "      <th>RemovedTeeth</th>\n",
       "      <th>HadHeartAttack</th>\n",
       "      <th>...</th>\n",
       "      <th>HeightInMeters</th>\n",
       "      <th>WeightInKilograms</th>\n",
       "      <th>BMI</th>\n",
       "      <th>AlcoholDrinkers</th>\n",
       "      <th>HIVTesting</th>\n",
       "      <th>FluVaxLast12</th>\n",
       "      <th>PneumoVaxEver</th>\n",
       "      <th>TetanusLast10Tdap</th>\n",
       "      <th>HighRiskLastYear</th>\n",
       "      <th>CovidPos</th>\n",
       "    </tr>\n",
       "  </thead>\n",
       "  <tbody>\n",
       "    <tr>\n",
       "      <th>0</th>\n",
       "      <td>Alabama</td>\n",
       "      <td>Female</td>\n",
       "      <td>Very good</td>\n",
       "      <td>4.0</td>\n",
       "      <td>0.0</td>\n",
       "      <td>Within past year (anytime less than 12 months ...</td>\n",
       "      <td>Yes</td>\n",
       "      <td>9.0</td>\n",
       "      <td>None of them</td>\n",
       "      <td>No</td>\n",
       "      <td>...</td>\n",
       "      <td>1.60</td>\n",
       "      <td>71.67</td>\n",
       "      <td>27.99</td>\n",
       "      <td>No</td>\n",
       "      <td>No</td>\n",
       "      <td>Yes</td>\n",
       "      <td>Yes</td>\n",
       "      <td>Yes, received Tdap</td>\n",
       "      <td>No</td>\n",
       "      <td>No</td>\n",
       "    </tr>\n",
       "    <tr>\n",
       "      <th>1</th>\n",
       "      <td>Alabama</td>\n",
       "      <td>Male</td>\n",
       "      <td>Very good</td>\n",
       "      <td>0.0</td>\n",
       "      <td>0.0</td>\n",
       "      <td>Within past year (anytime less than 12 months ...</td>\n",
       "      <td>Yes</td>\n",
       "      <td>6.0</td>\n",
       "      <td>None of them</td>\n",
       "      <td>No</td>\n",
       "      <td>...</td>\n",
       "      <td>1.78</td>\n",
       "      <td>95.25</td>\n",
       "      <td>30.13</td>\n",
       "      <td>No</td>\n",
       "      <td>No</td>\n",
       "      <td>Yes</td>\n",
       "      <td>Yes</td>\n",
       "      <td>Yes, received tetanus shot but not sure what type</td>\n",
       "      <td>No</td>\n",
       "      <td>No</td>\n",
       "    </tr>\n",
       "    <tr>\n",
       "      <th>2</th>\n",
       "      <td>Alabama</td>\n",
       "      <td>Male</td>\n",
       "      <td>Very good</td>\n",
       "      <td>0.0</td>\n",
       "      <td>0.0</td>\n",
       "      <td>Within past year (anytime less than 12 months ...</td>\n",
       "      <td>No</td>\n",
       "      <td>8.0</td>\n",
       "      <td>6 or more, but not all</td>\n",
       "      <td>No</td>\n",
       "      <td>...</td>\n",
       "      <td>1.85</td>\n",
       "      <td>108.86</td>\n",
       "      <td>31.66</td>\n",
       "      <td>Yes</td>\n",
       "      <td>No</td>\n",
       "      <td>No</td>\n",
       "      <td>Yes</td>\n",
       "      <td>No, did not receive any tetanus shot in the pa...</td>\n",
       "      <td>No</td>\n",
       "      <td>Yes</td>\n",
       "    </tr>\n",
       "    <tr>\n",
       "      <th>3</th>\n",
       "      <td>Alabama</td>\n",
       "      <td>Female</td>\n",
       "      <td>Fair</td>\n",
       "      <td>5.0</td>\n",
       "      <td>0.0</td>\n",
       "      <td>Within past year (anytime less than 12 months ...</td>\n",
       "      <td>Yes</td>\n",
       "      <td>9.0</td>\n",
       "      <td>None of them</td>\n",
       "      <td>No</td>\n",
       "      <td>...</td>\n",
       "      <td>1.70</td>\n",
       "      <td>90.72</td>\n",
       "      <td>31.32</td>\n",
       "      <td>No</td>\n",
       "      <td>No</td>\n",
       "      <td>Yes</td>\n",
       "      <td>Yes</td>\n",
       "      <td>No, did not receive any tetanus shot in the pa...</td>\n",
       "      <td>No</td>\n",
       "      <td>Yes</td>\n",
       "    </tr>\n",
       "    <tr>\n",
       "      <th>4</th>\n",
       "      <td>Alabama</td>\n",
       "      <td>Female</td>\n",
       "      <td>Good</td>\n",
       "      <td>3.0</td>\n",
       "      <td>15.0</td>\n",
       "      <td>Within past year (anytime less than 12 months ...</td>\n",
       "      <td>Yes</td>\n",
       "      <td>5.0</td>\n",
       "      <td>1 to 5</td>\n",
       "      <td>No</td>\n",
       "      <td>...</td>\n",
       "      <td>1.55</td>\n",
       "      <td>79.38</td>\n",
       "      <td>33.07</td>\n",
       "      <td>No</td>\n",
       "      <td>No</td>\n",
       "      <td>Yes</td>\n",
       "      <td>Yes</td>\n",
       "      <td>No, did not receive any tetanus shot in the pa...</td>\n",
       "      <td>No</td>\n",
       "      <td>No</td>\n",
       "    </tr>\n",
       "  </tbody>\n",
       "</table>\n",
       "<p>5 rows × 40 columns</p>\n",
       "</div>"
      ],
      "text/plain": [
       "     State     Sex GeneralHealth  PhysicalHealthDays  MentalHealthDays  \\\n",
       "0  Alabama  Female     Very good                 4.0               0.0   \n",
       "1  Alabama    Male     Very good                 0.0               0.0   \n",
       "2  Alabama    Male     Very good                 0.0               0.0   \n",
       "3  Alabama  Female          Fair                 5.0               0.0   \n",
       "4  Alabama  Female          Good                 3.0              15.0   \n",
       "\n",
       "                                     LastCheckupTime PhysicalActivities  \\\n",
       "0  Within past year (anytime less than 12 months ...                Yes   \n",
       "1  Within past year (anytime less than 12 months ...                Yes   \n",
       "2  Within past year (anytime less than 12 months ...                 No   \n",
       "3  Within past year (anytime less than 12 months ...                Yes   \n",
       "4  Within past year (anytime less than 12 months ...                Yes   \n",
       "\n",
       "   SleepHours            RemovedTeeth HadHeartAttack  ... HeightInMeters  \\\n",
       "0         9.0            None of them             No  ...           1.60   \n",
       "1         6.0            None of them             No  ...           1.78   \n",
       "2         8.0  6 or more, but not all             No  ...           1.85   \n",
       "3         9.0            None of them             No  ...           1.70   \n",
       "4         5.0                  1 to 5             No  ...           1.55   \n",
       "\n",
       "  WeightInKilograms    BMI AlcoholDrinkers HIVTesting FluVaxLast12  \\\n",
       "0             71.67  27.99              No         No          Yes   \n",
       "1             95.25  30.13              No         No          Yes   \n",
       "2            108.86  31.66             Yes         No           No   \n",
       "3             90.72  31.32              No         No          Yes   \n",
       "4             79.38  33.07              No         No          Yes   \n",
       "\n",
       "  PneumoVaxEver                                  TetanusLast10Tdap  \\\n",
       "0           Yes                                 Yes, received Tdap   \n",
       "1           Yes  Yes, received tetanus shot but not sure what type   \n",
       "2           Yes  No, did not receive any tetanus shot in the pa...   \n",
       "3           Yes  No, did not receive any tetanus shot in the pa...   \n",
       "4           Yes  No, did not receive any tetanus shot in the pa...   \n",
       "\n",
       "  HighRiskLastYear CovidPos  \n",
       "0               No       No  \n",
       "1               No       No  \n",
       "2               No      Yes  \n",
       "3               No      Yes  \n",
       "4               No       No  \n",
       "\n",
       "[5 rows x 40 columns]"
      ]
     },
     "execution_count": 3,
     "metadata": {},
     "output_type": "execute_result"
    }
   ],
   "source": [
    "data.head()"
   ]
  },
  {
   "cell_type": "code",
   "execution_count": 4,
   "id": "fb258123-1f71-40de-96b7-184c2fbbd3c2",
   "metadata": {},
   "outputs": [
    {
     "data": {
      "text/plain": [
       "Index(['State', 'Sex', 'GeneralHealth', 'PhysicalHealthDays',\n",
       "       'MentalHealthDays', 'LastCheckupTime', 'PhysicalActivities',\n",
       "       'SleepHours', 'RemovedTeeth', 'HadHeartAttack', 'HadAngina',\n",
       "       'HadStroke', 'HadAsthma', 'HadSkinCancer', 'HadCOPD',\n",
       "       'HadDepressiveDisorder', 'HadKidneyDisease', 'HadArthritis',\n",
       "       'HadDiabetes', 'DeafOrHardOfHearing', 'BlindOrVisionDifficulty',\n",
       "       'DifficultyConcentrating', 'DifficultyWalking',\n",
       "       'DifficultyDressingBathing', 'DifficultyErrands', 'SmokerStatus',\n",
       "       'ECigaretteUsage', 'ChestScan', 'RaceEthnicityCategory', 'AgeCategory',\n",
       "       'HeightInMeters', 'WeightInKilograms', 'BMI', 'AlcoholDrinkers',\n",
       "       'HIVTesting', 'FluVaxLast12', 'PneumoVaxEver', 'TetanusLast10Tdap',\n",
       "       'HighRiskLastYear', 'CovidPos'],\n",
       "      dtype='object')"
      ]
     },
     "execution_count": 4,
     "metadata": {},
     "output_type": "execute_result"
    }
   ],
   "source": [
    "data.columns"
   ]
  },
  {
   "cell_type": "code",
   "execution_count": 5,
   "id": "efe6453f-77f9-4c76-bfdf-517727a6ea39",
   "metadata": {},
   "outputs": [],
   "source": [
    "random_subset = np.random.choice(np.arange(data.shape[0]), size=10000, replace=False)"
   ]
  },
  {
   "cell_type": "markdown",
   "id": "8bfe55b2-4df6-4bfe-86e8-8c6bd9918c86",
   "metadata": {},
   "source": [
    "**Готовим данные**"
   ]
  },
  {
   "cell_type": "code",
   "execution_count": 6,
   "id": "83e39cf4-4f3c-46d5-8293-44610f8a6c3f",
   "metadata": {},
   "outputs": [
    {
     "name": "stdout",
     "output_type": "stream",
     "text": [
      "['State', 'Sex', 'GeneralHealth', 'LastCheckupTime', 'PhysicalActivities', 'RemovedTeeth', 'HadHeartAttack', 'HadAngina', 'HadStroke', 'HadAsthma', 'HadSkinCancer', 'HadCOPD', 'HadDepressiveDisorder', 'HadKidneyDisease', 'HadArthritis', 'HadDiabetes', 'DeafOrHardOfHearing', 'BlindOrVisionDifficulty', 'DifficultyConcentrating', 'DifficultyWalking', 'DifficultyDressingBathing', 'DifficultyErrands', 'SmokerStatus', 'ECigaretteUsage', 'ChestScan', 'RaceEthnicityCategory', 'AgeCategory', 'AlcoholDrinkers', 'HIVTesting', 'FluVaxLast12', 'PneumoVaxEver', 'TetanusLast10Tdap', 'HighRiskLastYear', 'CovidPos']\n",
      "['PhysicalHealthDays', 'MentalHealthDays', 'SleepHours', 'HeightInMeters', 'WeightInKilograms', 'BMI']\n"
     ]
    }
   ],
   "source": [
    "categorical_columns = [c for c in data.columns if data[c].dtype.name == 'object']\n",
    "numerical_columns   = [c for c in data.columns if data[c].dtype.name != 'object']\n",
    "print(categorical_columns)\n",
    "print(numerical_columns)"
   ]
  },
  {
   "cell_type": "code",
   "execution_count": 7,
   "id": "f17483da-3595-4828-be4b-83cc80bd7e0e",
   "metadata": {},
   "outputs": [
    {
     "name": "stdout",
     "output_type": "stream",
     "text": [
      "State ['Alabama' 'Alaska' 'Arizona' 'Arkansas' 'California' 'Colorado'\n",
      " 'Connecticut' 'Delaware' 'District of Columbia' 'Florida' 'Georgia'\n",
      " 'Hawaii' 'Idaho' 'Illinois' 'Indiana' 'Iowa' 'Kansas' 'Kentucky'\n",
      " 'Louisiana' 'Maine' 'Maryland' 'Massachusetts' 'Michigan' 'Minnesota'\n",
      " 'Mississippi' 'Missouri' 'Montana' 'Nebraska' 'Nevada' 'New Hampshire'\n",
      " 'New Jersey' 'New Mexico' 'New York' 'North Carolina' 'North Dakota'\n",
      " 'Ohio' 'Oklahoma' 'Oregon' 'Pennsylvania' 'Rhode Island' 'South Carolina'\n",
      " 'South Dakota' 'Tennessee' 'Texas' 'Utah' 'Vermont' 'Virginia'\n",
      " 'Washington' 'West Virginia' 'Wisconsin' 'Wyoming' 'Guam' 'Puerto Rico'\n",
      " 'Virgin Islands']\n",
      "Sex ['Female' 'Male']\n",
      "GeneralHealth ['Very good' 'Fair' 'Good' 'Excellent' 'Poor']\n",
      "LastCheckupTime ['Within past year (anytime less than 12 months ago)'\n",
      " '5 or more years ago'\n",
      " 'Within past 2 years (1 year but less than 2 years ago)'\n",
      " 'Within past 5 years (2 years but less than 5 years ago)']\n",
      "PhysicalActivities ['Yes' 'No']\n",
      "RemovedTeeth ['None of them' '6 or more, but not all' '1 to 5' 'All']\n",
      "HadHeartAttack ['No' 'Yes']\n",
      "HadAngina ['No' 'Yes']\n",
      "HadStroke ['No' 'Yes']\n",
      "HadAsthma ['No' 'Yes']\n",
      "HadSkinCancer ['No' 'Yes']\n",
      "HadCOPD ['No' 'Yes']\n",
      "HadDepressiveDisorder ['No' 'Yes']\n",
      "HadKidneyDisease ['No' 'Yes']\n",
      "HadArthritis ['Yes' 'No']\n",
      "HadDiabetes ['No' 'Yes' 'Yes, but only during pregnancy (female)'\n",
      " 'No, pre-diabetes or borderline diabetes']\n",
      "DeafOrHardOfHearing ['No' 'Yes']\n",
      "BlindOrVisionDifficulty ['No' 'Yes']\n",
      "DifficultyConcentrating ['No' 'Yes']\n",
      "DifficultyWalking ['No' 'Yes']\n",
      "DifficultyDressingBathing ['No' 'Yes']\n",
      "DifficultyErrands ['No' 'Yes']\n",
      "SmokerStatus ['Former smoker' 'Never smoked' 'Current smoker - now smokes every day'\n",
      " 'Current smoker - now smokes some days']\n",
      "ECigaretteUsage ['Never used e-cigarettes in my entire life' 'Use them some days'\n",
      " 'Not at all (right now)' 'Use them every day']\n",
      "ChestScan ['No' 'Yes']\n",
      "RaceEthnicityCategory ['White only, Non-Hispanic' 'Black only, Non-Hispanic'\n",
      " 'Other race only, Non-Hispanic' 'Multiracial, Non-Hispanic' 'Hispanic']\n",
      "AgeCategory ['Age 65 to 69' 'Age 70 to 74' 'Age 75 to 79' 'Age 80 or older'\n",
      " 'Age 50 to 54' 'Age 40 to 44' 'Age 60 to 64' 'Age 55 to 59'\n",
      " 'Age 45 to 49' 'Age 35 to 39' 'Age 25 to 29' 'Age 30 to 34'\n",
      " 'Age 18 to 24']\n",
      "AlcoholDrinkers ['No' 'Yes']\n",
      "HIVTesting ['No' 'Yes']\n",
      "FluVaxLast12 ['Yes' 'No']\n",
      "PneumoVaxEver ['Yes' 'No']\n",
      "TetanusLast10Tdap ['Yes, received Tdap' 'Yes, received tetanus shot but not sure what type'\n",
      " 'No, did not receive any tetanus shot in the past 10 years'\n",
      " 'Yes, received tetanus shot, but not Tdap']\n",
      "HighRiskLastYear ['No' 'Yes']\n",
      "CovidPos ['No' 'Yes'\n",
      " 'Tested positive using home test without a health professional']\n"
     ]
    }
   ],
   "source": [
    "for c in categorical_columns:\n",
    "    print(c, data[c].unique())"
   ]
  },
  {
   "cell_type": "code",
   "execution_count": 8,
   "id": "d51a2d4c-e858-432f-a209-e8054363a7bd",
   "metadata": {},
   "outputs": [],
   "source": [
    "data_describe = data.describe(include = [object])\n",
    "for c in categorical_columns:\n",
    "    data[c] = data[c].fillna(data_describe[c]['top'])"
   ]
  },
  {
   "cell_type": "code",
   "execution_count": 9,
   "id": "61c4ee5a-aacc-4e58-84ac-72d20ac699bd",
   "metadata": {},
   "outputs": [
    {
     "name": "stdout",
     "output_type": "stream",
     "text": [
      "['Sex', 'PhysicalActivities', 'HadHeartAttack', 'HadAngina', 'HadStroke', 'HadAsthma', 'HadSkinCancer', 'HadCOPD', 'HadDepressiveDisorder', 'HadKidneyDisease', 'HadArthritis', 'DeafOrHardOfHearing', 'BlindOrVisionDifficulty', 'DifficultyConcentrating', 'DifficultyWalking', 'DifficultyDressingBathing', 'DifficultyErrands', 'ChestScan', 'AlcoholDrinkers', 'HIVTesting', 'FluVaxLast12', 'PneumoVaxEver', 'HighRiskLastYear'] ['State', 'GeneralHealth', 'LastCheckupTime', 'RemovedTeeth', 'HadDiabetes', 'SmokerStatus', 'ECigaretteUsage', 'RaceEthnicityCategory', 'AgeCategory', 'TetanusLast10Tdap', 'CovidPos']\n"
     ]
    }
   ],
   "source": [
    "binary_columns    = [c for c in categorical_columns if data_describe[c]['unique'] == 2]\n",
    "nonbinary_columns = [c for c in categorical_columns if data_describe[c]['unique'] > 2]\n",
    "print(binary_columns, nonbinary_columns)"
   ]
  },
  {
   "cell_type": "code",
   "execution_count": 10,
   "id": "e3ec67a0-c8f0-4596-a30e-67cbe126eb16",
   "metadata": {},
   "outputs": [
    {
     "name": "stdout",
     "output_type": "stream",
     "text": [
      "State ['Alabama' 'Alaska' 'Arizona' 'Arkansas' 'California' 'Colorado'\n",
      " 'Connecticut' 'Delaware' 'District of Columbia' 'Florida' 'Georgia'\n",
      " 'Hawaii' 'Idaho' 'Illinois' 'Indiana' 'Iowa' 'Kansas' 'Kentucky'\n",
      " 'Louisiana' 'Maine' 'Maryland' 'Massachusetts' 'Michigan' 'Minnesota'\n",
      " 'Mississippi' 'Missouri' 'Montana' 'Nebraska' 'Nevada' 'New Hampshire'\n",
      " 'New Jersey' 'New Mexico' 'New York' 'North Carolina' 'North Dakota'\n",
      " 'Ohio' 'Oklahoma' 'Oregon' 'Pennsylvania' 'Rhode Island' 'South Carolina'\n",
      " 'South Dakota' 'Tennessee' 'Texas' 'Utah' 'Vermont' 'Virginia'\n",
      " 'Washington' 'West Virginia' 'Wisconsin' 'Wyoming' 'Guam' 'Puerto Rico'\n",
      " 'Virgin Islands']\n",
      "Sex ['Female' 'Male']\n",
      "GeneralHealth ['Very good' 'Fair' 'Good' 'Excellent' 'Poor']\n",
      "LastCheckupTime ['Within past year (anytime less than 12 months ago)'\n",
      " '5 or more years ago'\n",
      " 'Within past 2 years (1 year but less than 2 years ago)'\n",
      " 'Within past 5 years (2 years but less than 5 years ago)']\n",
      "PhysicalActivities ['Yes' 'No']\n",
      "RemovedTeeth ['None of them' '6 or more, but not all' '1 to 5' 'All']\n",
      "HadHeartAttack ['No' 'Yes']\n",
      "HadAngina ['No' 'Yes']\n",
      "HadStroke ['No' 'Yes']\n",
      "HadAsthma ['No' 'Yes']\n",
      "HadSkinCancer ['No' 'Yes']\n",
      "HadCOPD ['No' 'Yes']\n",
      "HadDepressiveDisorder ['No' 'Yes']\n",
      "HadKidneyDisease ['No' 'Yes']\n",
      "HadArthritis ['Yes' 'No']\n",
      "HadDiabetes ['No' 'Yes' 'Yes, but only during pregnancy (female)'\n",
      " 'No, pre-diabetes or borderline diabetes']\n",
      "DeafOrHardOfHearing ['No' 'Yes']\n",
      "BlindOrVisionDifficulty ['No' 'Yes']\n",
      "DifficultyConcentrating ['No' 'Yes']\n",
      "DifficultyWalking ['No' 'Yes']\n",
      "DifficultyDressingBathing ['No' 'Yes']\n",
      "DifficultyErrands ['No' 'Yes']\n",
      "SmokerStatus ['Former smoker' 'Never smoked' 'Current smoker - now smokes every day'\n",
      " 'Current smoker - now smokes some days']\n",
      "ECigaretteUsage ['Never used e-cigarettes in my entire life' 'Use them some days'\n",
      " 'Not at all (right now)' 'Use them every day']\n",
      "ChestScan ['No' 'Yes']\n",
      "RaceEthnicityCategory ['White only, Non-Hispanic' 'Black only, Non-Hispanic'\n",
      " 'Other race only, Non-Hispanic' 'Multiracial, Non-Hispanic' 'Hispanic']\n",
      "AgeCategory ['Age 65 to 69' 'Age 70 to 74' 'Age 75 to 79' 'Age 80 or older'\n",
      " 'Age 50 to 54' 'Age 40 to 44' 'Age 60 to 64' 'Age 55 to 59'\n",
      " 'Age 45 to 49' 'Age 35 to 39' 'Age 25 to 29' 'Age 30 to 34'\n",
      " 'Age 18 to 24']\n",
      "AlcoholDrinkers ['No' 'Yes']\n",
      "HIVTesting ['No' 'Yes']\n",
      "FluVaxLast12 ['Yes' 'No']\n",
      "PneumoVaxEver ['Yes' 'No']\n",
      "TetanusLast10Tdap ['Yes, received Tdap' 'Yes, received tetanus shot but not sure what type'\n",
      " 'No, did not receive any tetanus shot in the past 10 years'\n",
      " 'Yes, received tetanus shot, but not Tdap']\n",
      "HighRiskLastYear ['No' 'Yes']\n",
      "CovidPos ['No' 'Yes'\n",
      " 'Tested positive using home test without a health professional']\n"
     ]
    }
   ],
   "source": [
    "for c in categorical_columns:\n",
    "    print(c, data[c].unique())"
   ]
  },
  {
   "cell_type": "code",
   "execution_count": 11,
   "id": "85273849-569e-43ab-b4df-6ffa4ed72ebe",
   "metadata": {},
   "outputs": [
    {
     "data": {
      "text/plain": [
       "array(['Female', 'Male'], dtype=object)"
      ]
     },
     "execution_count": 11,
     "metadata": {},
     "output_type": "execute_result"
    }
   ],
   "source": [
    "data['Sex'].unique()"
   ]
  },
  {
   "cell_type": "code",
   "execution_count": 12,
   "id": "8a4041f0-6c23-453e-bc0a-21f84a1bb5bd",
   "metadata": {},
   "outputs": [],
   "source": [
    "data.loc[data['Sex'] == 'Female', 'Sex'] = 0\n",
    "data.loc[data['Sex'] == 'Male', 'Sex'] = 1"
   ]
  },
  {
   "cell_type": "code",
   "execution_count": 13,
   "id": "b1a5829e-0ba8-4919-9b7c-09df4e20e0fa",
   "metadata": {},
   "outputs": [],
   "source": [
    "data = data.replace(['No','Yes'],[0,1])"
   ]
  },
  {
   "cell_type": "code",
   "execution_count": 14,
   "id": "ebdb7634-60b0-49d0-be4c-505ec7d707a1",
   "metadata": {},
   "outputs": [
    {
     "data": {
      "text/plain": [
       "array(['Very good', 'Fair', 'Good', 'Excellent', 'Poor'], dtype=object)"
      ]
     },
     "execution_count": 14,
     "metadata": {},
     "output_type": "execute_result"
    }
   ],
   "source": [
    "data['GeneralHealth'].unique()"
   ]
  },
  {
   "cell_type": "code",
   "execution_count": 15,
   "id": "1973ed93-4565-4614-b0c2-9789c53d219f",
   "metadata": {},
   "outputs": [],
   "source": [
    "data.loc[data['GeneralHealth'] == 'Poor', 'GeneralHealth'] = 0\n",
    "data.loc[data['GeneralHealth'] == 'Fair', 'GeneralHealth'] = 0.25\n",
    "data.loc[data['GeneralHealth'] == 'Good', 'GeneralHealth'] = 0.5\n",
    "data.loc[data['GeneralHealth'] == 'Very good', 'GeneralHealth'] = 0.75\n",
    "data.loc[data['GeneralHealth'] == 'Excellent', 'GeneralHealth'] = 1"
   ]
  },
  {
   "cell_type": "code",
   "execution_count": 16,
   "id": "419341a9-1efb-4e06-b646-0228c87128ae",
   "metadata": {},
   "outputs": [
    {
     "data": {
      "text/plain": [
       "array(['Within past year (anytime less than 12 months ago)',\n",
       "       '5 or more years ago',\n",
       "       'Within past 2 years (1 year but less than 2 years ago)',\n",
       "       'Within past 5 years (2 years but less than 5 years ago)'],\n",
       "      dtype=object)"
      ]
     },
     "execution_count": 16,
     "metadata": {},
     "output_type": "execute_result"
    }
   ],
   "source": [
    "data['LastCheckupTime'].unique()"
   ]
  },
  {
   "cell_type": "code",
   "execution_count": 17,
   "id": "ed3c39b1-13ad-405a-808a-a078e2432442",
   "metadata": {},
   "outputs": [],
   "source": [
    "data.loc[data['LastCheckupTime'] == 'Within past year (anytime less than 12 months ago)', 'LastCheckupTime'] = 1\n",
    "data.loc[data['LastCheckupTime'] == '5 or more years ago', 'LastCheckupTime'] = 0.5\n",
    "data.loc[data['LastCheckupTime'] == 'Within past 2 years (1 year but less than 2 years ago)', 'LastCheckupTime'] = 0.25\n",
    "data.loc[data['LastCheckupTime'] == 'Within past 5 years (2 years but less than 5 years ago)', 'LastCheckupTime'] = 0"
   ]
  },
  {
   "cell_type": "code",
   "execution_count": 18,
   "id": "07806c85-ea28-4659-92ef-157508dbfa6c",
   "metadata": {},
   "outputs": [
    {
     "data": {
      "text/plain": [
       "array(['None of them', '6 or more, but not all', '1 to 5', 'All'],\n",
       "      dtype=object)"
      ]
     },
     "execution_count": 18,
     "metadata": {},
     "output_type": "execute_result"
    }
   ],
   "source": [
    "data['RemovedTeeth'].unique()"
   ]
  },
  {
   "cell_type": "code",
   "execution_count": 19,
   "id": "b9343165-7ac9-47bd-96aa-f92cd200820e",
   "metadata": {},
   "outputs": [],
   "source": [
    "data.loc[data['RemovedTeeth'] == 'None of them', 'RemovedTeeth'] = 0\n",
    "data.loc[data['RemovedTeeth'] == '1 to 5', 'RemovedTeeth'] = 0.33\n",
    "data.loc[data['RemovedTeeth'] == '6 or more, but not all', 'RemovedTeeth'] = 0.66\n",
    "data.loc[data['RemovedTeeth'] == 'All', 'RemovedTeeth'] = 1"
   ]
  },
  {
   "cell_type": "code",
   "execution_count": 20,
   "id": "22e31e31-2f7a-4ad5-b94b-cf4f118ae9e9",
   "metadata": {},
   "outputs": [
    {
     "data": {
      "text/plain": [
       "array([0, 1, 'Yes, but only during pregnancy (female)',\n",
       "       'No, pre-diabetes or borderline diabetes'], dtype=object)"
      ]
     },
     "execution_count": 20,
     "metadata": {},
     "output_type": "execute_result"
    }
   ],
   "source": [
    "data['HadDiabetes'].unique()"
   ]
  },
  {
   "cell_type": "code",
   "execution_count": 21,
   "id": "d48e57c4-ce83-47ae-a08f-ac15d857b409",
   "metadata": {},
   "outputs": [],
   "source": [
    "data.loc[data['HadDiabetes'] == 'Yes, but only during pregnancy (female)', 'HadDiabetes'] = 0.5\n",
    "data.loc[data['HadDiabetes'] == 'No, pre-diabetes or borderline diabetes', 'HadDiabetes'] = 0.5"
   ]
  },
  {
   "cell_type": "code",
   "execution_count": 22,
   "id": "7059ab99-7ee6-4af1-890d-a4e9a0906657",
   "metadata": {},
   "outputs": [
    {
     "data": {
      "text/plain": [
       "array(['Former smoker', 'Never smoked',\n",
       "       'Current smoker - now smokes every day',\n",
       "       'Current smoker - now smokes some days'], dtype=object)"
      ]
     },
     "execution_count": 22,
     "metadata": {},
     "output_type": "execute_result"
    }
   ],
   "source": [
    "data['SmokerStatus'].unique()"
   ]
  },
  {
   "cell_type": "code",
   "execution_count": 23,
   "id": "7ea09e83-a6ff-41c1-a359-80653d8d29fd",
   "metadata": {},
   "outputs": [],
   "source": [
    "data.loc[data['SmokerStatus'] == 'Former smoker', 'SmokerStatus'] = 0.5\n",
    "data.loc[data['SmokerStatus'] == 'Never smoked', 'SmokerStatus'] = 0\n",
    "data.loc[data['SmokerStatus'] == 'Current smoker - now smokes some days', 'SmokerStatus'] = 0.75\n",
    "data.loc[data['SmokerStatus'] == 'Current smoker - now smokes every day', 'SmokerStatus'] = 1"
   ]
  },
  {
   "cell_type": "code",
   "execution_count": 24,
   "id": "d4371bfe-5206-49af-ab11-637ceeb1b78e",
   "metadata": {},
   "outputs": [
    {
     "data": {
      "text/plain": [
       "array(['Never used e-cigarettes in my entire life', 'Use them some days',\n",
       "       'Not at all (right now)', 'Use them every day'], dtype=object)"
      ]
     },
     "execution_count": 24,
     "metadata": {},
     "output_type": "execute_result"
    }
   ],
   "source": [
    "data['ECigaretteUsage'].unique()"
   ]
  },
  {
   "cell_type": "code",
   "execution_count": 25,
   "id": "657e5361-1c21-4d3e-a086-cc9fcc59757d",
   "metadata": {},
   "outputs": [],
   "source": [
    "data.loc[data['ECigaretteUsage'] == 'Never used e-cigarettes in my entire life', 'ECigaretteUsage'] = 0\n",
    "data.loc[data['ECigaretteUsage'] == 'Not at all (right now)', 'ECigaretteUsage'] = 0.5\n",
    "data.loc[data['ECigaretteUsage'] == 'Use them every day','ECigaretteUsage'] = 1\n",
    "data.loc[data['ECigaretteUsage'] == 'Use them some days', 'ECigaretteUsage'] = 0.75"
   ]
  },
  {
   "cell_type": "code",
   "execution_count": 26,
   "id": "92239cc8-b516-4e25-8c29-1d32f951727e",
   "metadata": {},
   "outputs": [
    {
     "data": {
      "text/plain": [
       "array(['Age 65 to 69', 'Age 70 to 74', 'Age 75 to 79', 'Age 80 or older',\n",
       "       'Age 50 to 54', 'Age 40 to 44', 'Age 60 to 64', 'Age 55 to 59',\n",
       "       'Age 45 to 49', 'Age 35 to 39', 'Age 25 to 29', 'Age 30 to 34',\n",
       "       'Age 18 to 24'], dtype=object)"
      ]
     },
     "execution_count": 26,
     "metadata": {},
     "output_type": "execute_result"
    }
   ],
   "source": [
    "data['AgeCategory'].unique()"
   ]
  },
  {
   "cell_type": "code",
   "execution_count": 27,
   "id": "df1852f1-4cdb-4507-aaaf-4be915fb598f",
   "metadata": {},
   "outputs": [],
   "source": [
    "data.loc[data['AgeCategory'] == 'Age 65 to 69', 'AgeCategory'] = (65 + 69)/2\n",
    "data.loc[data['AgeCategory'] == 'Age 70 to 74', 'AgeCategory'] = (70 + 74)/2\n",
    "data.loc[data['AgeCategory'] == 'Age 75 to 79', 'AgeCategory'] = (75 + 79)/2\n",
    "data.loc[data['AgeCategory'] == 'Age 80 or older', 'AgeCategory'] = (80 + 100)/2\n",
    "data.loc[data['AgeCategory'] == 'Age 50 to 54', 'AgeCategory'] = (50 + 54)/2\n",
    "data.loc[data['AgeCategory'] == 'Age 40 to 44', 'AgeCategory'] = (40 + 44)/2\n",
    "data.loc[data['AgeCategory'] == 'Age 60 to 64', 'AgeCategory'] = (60 + 64)/2\n",
    "data.loc[data['AgeCategory'] == 'Age 55 to 59', 'AgeCategory'] = (55 + 59)/2\n",
    "data.loc[data['AgeCategory'] == 'Age 45 to 49', 'AgeCategory'] = (45 + 49)/2\n",
    "data.loc[data['AgeCategory'] == 'Age 35 to 39', 'AgeCategory'] = (35 + 39)/2\n",
    "data.loc[data['AgeCategory'] == 'Age 25 to 29', 'AgeCategory'] = (25 + 29)/2\n",
    "data.loc[data['AgeCategory'] == 'Age 30 to 34', 'AgeCategory'] = (30 + 34)/2\n",
    "data.loc[data['AgeCategory'] == 'Age 18 to 24', 'AgeCategory'] = (18 + 24)/2"
   ]
  },
  {
   "cell_type": "code",
   "execution_count": 28,
   "id": "0d2c3e7d-c08e-461f-9390-f331adc61095",
   "metadata": {},
   "outputs": [
    {
     "data": {
      "text/plain": [
       "array(['Yes, received Tdap',\n",
       "       'Yes, received tetanus shot but not sure what type',\n",
       "       'No, did not receive any tetanus shot in the past 10 years',\n",
       "       'Yes, received tetanus shot, but not Tdap'], dtype=object)"
      ]
     },
     "execution_count": 28,
     "metadata": {},
     "output_type": "execute_result"
    }
   ],
   "source": [
    "data['TetanusLast10Tdap'].unique()"
   ]
  },
  {
   "cell_type": "code",
   "execution_count": 29,
   "id": "9e280f94-ad30-4f09-bfc9-5709114e96d1",
   "metadata": {},
   "outputs": [],
   "source": [
    "data.loc[data['TetanusLast10Tdap'] == 'Yes, received Tdap', 'TetanusLast10Tdap'] = 1\n",
    "data.loc[data['TetanusLast10Tdap'] == 'Yes, received tetanus shot but not sure what type', 'TetanusLast10Tdap'] = 0.5\n",
    "data.loc[data['TetanusLast10Tdap'] == 'No, did not receive any tetanus shot in the past 10 years','TetanusLast10Tdap'] = 0\n",
    "data.loc[data['TetanusLast10Tdap'] == 'Yes, received tetanus shot, but not Tdap', 'TetanusLast10Tdap'] = 0.5"
   ]
  },
  {
   "cell_type": "code",
   "execution_count": 30,
   "id": "99c002b4-18e7-43ac-9a6e-f94e9f6eb838",
   "metadata": {},
   "outputs": [
    {
     "data": {
      "text/plain": [
       "array([0, 1,\n",
       "       'Tested positive using home test without a health professional'],\n",
       "      dtype=object)"
      ]
     },
     "execution_count": 30,
     "metadata": {},
     "output_type": "execute_result"
    }
   ],
   "source": [
    "data['CovidPos'].unique()"
   ]
  },
  {
   "cell_type": "code",
   "execution_count": 31,
   "id": "4c91f31a-b190-4d34-851f-94f852239c56",
   "metadata": {},
   "outputs": [],
   "source": [
    "data.loc[data['CovidPos'] == 'Tested positive using home test without a health professional', 'CovidPos'] = 0.75"
   ]
  },
  {
   "cell_type": "code",
   "execution_count": 32,
   "id": "97ef9720-f283-4bef-92f3-0fea058c2461",
   "metadata": {},
   "outputs": [
    {
     "name": "stdout",
     "output_type": "stream",
     "text": [
      "['State', 'GeneralHealth', 'LastCheckupTime', 'RemovedTeeth', 'HadDiabetes', 'SmokerStatus', 'ECigaretteUsage', 'RaceEthnicityCategory', 'AgeCategory', 'TetanusLast10Tdap', 'CovidPos']\n"
     ]
    }
   ],
   "source": [
    "categorical_columns = [c for c in data.columns if data[c].dtype.name == 'object']\n",
    "print(categorical_columns)"
   ]
  },
  {
   "cell_type": "code",
   "execution_count": 33,
   "id": "a8c4091b-38e6-4bb0-9abf-1dda8cbcb9ce",
   "metadata": {},
   "outputs": [
    {
     "name": "stdout",
     "output_type": "stream",
     "text": [
      "State ['Alabama' 'Alaska' 'Arizona' 'Arkansas' 'California' 'Colorado'\n",
      " 'Connecticut' 'Delaware' 'District of Columbia' 'Florida' 'Georgia'\n",
      " 'Hawaii' 'Idaho' 'Illinois' 'Indiana' 'Iowa' 'Kansas' 'Kentucky'\n",
      " 'Louisiana' 'Maine' 'Maryland' 'Massachusetts' 'Michigan' 'Minnesota'\n",
      " 'Mississippi' 'Missouri' 'Montana' 'Nebraska' 'Nevada' 'New Hampshire'\n",
      " 'New Jersey' 'New Mexico' 'New York' 'North Carolina' 'North Dakota'\n",
      " 'Ohio' 'Oklahoma' 'Oregon' 'Pennsylvania' 'Rhode Island' 'South Carolina'\n",
      " 'South Dakota' 'Tennessee' 'Texas' 'Utah' 'Vermont' 'Virginia'\n",
      " 'Washington' 'West Virginia' 'Wisconsin' 'Wyoming' 'Guam' 'Puerto Rico'\n",
      " 'Virgin Islands']\n",
      "GeneralHealth [0.75 0.25 0.5 1 0]\n",
      "LastCheckupTime [1 0.5 0.25 0]\n",
      "RemovedTeeth [0 0.66 0.33 1]\n",
      "HadDiabetes [0 1 0.5]\n",
      "SmokerStatus [0.5 0 1 0.75]\n",
      "ECigaretteUsage [0 0.75 0.5 1]\n",
      "RaceEthnicityCategory ['White only, Non-Hispanic' 'Black only, Non-Hispanic'\n",
      " 'Other race only, Non-Hispanic' 'Multiracial, Non-Hispanic' 'Hispanic']\n",
      "AgeCategory [67.0 72.0 77.0 90.0 52.0 42.0 62.0 57.0 47.0 37.0 27.0 32.0 21.0]\n",
      "TetanusLast10Tdap [1 0.5 0]\n",
      "CovidPos [0 1 0.75]\n"
     ]
    }
   ],
   "source": [
    "for c in categorical_columns:\n",
    "    print(c, data[c].unique())"
   ]
  },
  {
   "cell_type": "code",
   "execution_count": 34,
   "id": "db1b1a15-0f91-4499-9dc0-58bca2ecb2d5",
   "metadata": {},
   "outputs": [
    {
     "ename": "NameError",
     "evalue": "name 'dataWithHeart' is not defined",
     "output_type": "error",
     "traceback": [
      "\u001b[1;31m---------------------------------------------------------------------------\u001b[0m",
      "\u001b[1;31mNameError\u001b[0m                                 Traceback (most recent call last)",
      "Cell \u001b[1;32mIn[34], line 1\u001b[0m\n\u001b[1;32m----> 1\u001b[0m sns\u001b[38;5;241m.\u001b[39mpairplot(\u001b[43mdataWithHeart\u001b[49m\u001b[38;5;241m.\u001b[39miloc[random_subset], hue\u001b[38;5;241m=\u001b[39m\u001b[38;5;124m'\u001b[39m\u001b[38;5;124mHadHeartAttack\u001b[39m\u001b[38;5;124m'\u001b[39m, diag_kind\u001b[38;5;241m=\u001b[39m\u001b[38;5;124m'\u001b[39m\u001b[38;5;124mhist\u001b[39m\u001b[38;5;124m'\u001b[39m)\n\u001b[0;32m      3\u001b[0m \u001b[38;5;28;01mpass\u001b[39;00m\n",
      "\u001b[1;31mNameError\u001b[0m: name 'dataWithHeart' is not defined"
     ]
    }
   ],
   "source": [
    "sns.pairplot(dataWithHeart.iloc[random_subset], hue='HadHeartAttack', diag_kind='hist')\n",
    "\n",
    "pass\n"
   ]
  },
  {
   "cell_type": "code",
   "execution_count": null,
   "id": "a361d975-8562-4cb0-a260-8395c12053ac",
   "metadata": {},
   "outputs": [],
   "source": [
    "sns.jointplot(x='PhysicalHealthDays', y='BMI',hue='HadHeartAttack', alpha=1, data=dataWithHeart.iloc[random_subset])\n",
    "pass"
   ]
  },
  {
   "cell_type": "code",
   "execution_count": null,
   "id": "9a7a4a2d-f161-4d02-8518-d9aacc0f3a07",
   "metadata": {},
   "outputs": [],
   "source": [
    "data.describe()"
   ]
  },
  {
   "cell_type": "code",
   "execution_count": null,
   "id": "de343dfb-9331-4af4-b5cf-9b181454e33c",
   "metadata": {},
   "outputs": [],
   "source": [
    "data.corr()"
   ]
  },
  {
   "cell_type": "markdown",
   "id": "ea233900-1531-4716-919e-78ff764ff6dd",
   "metadata": {},
   "source": [
    "Из визуализации и основных характеристик мало что можно сказать о том как от них зависит присутствие/отсутствие сердечных приступов у человека."
   ]
  },
  {
   "cell_type": "code",
   "execution_count": null,
   "id": "d292a768-1f9e-4a22-8f28-67b951d1ad77",
   "metadata": {},
   "outputs": [],
   "source": []
  }
 ],
 "metadata": {
  "kernelspec": {
   "display_name": "Python 3 (ipykernel)",
   "language": "python",
   "name": "python3"
  },
  "language_info": {
   "codemirror_mode": {
    "name": "ipython",
    "version": 3
   },
   "file_extension": ".py",
   "mimetype": "text/x-python",
   "name": "python",
   "nbconvert_exporter": "python",
   "pygments_lexer": "ipython3",
   "version": "3.8.10"
  }
 },
 "nbformat": 4,
 "nbformat_minor": 5
}
